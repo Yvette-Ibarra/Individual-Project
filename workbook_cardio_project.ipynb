{
 "cells": [
  {
   "cell_type": "markdown",
   "id": "2fa266f2",
   "metadata": {},
   "source": [
    "# Workbook Cardio Project"
   ]
  },
  {
   "cell_type": "code",
   "execution_count": 30,
   "id": "d7c5a694",
   "metadata": {},
   "outputs": [],
   "source": [
    "import pandas as pd\n",
    "import numpy as np\n",
    "import matplotlib.pyplot as plt\n",
    "import seaborn as sns\n",
    "\n",
    "import explore_2 as e2\n",
    "import model_2 as m2\n",
    "import wrangle_2 as w2\n",
    "\n",
    "\n",
    "from sklearn.model_selection import train_test_split"
   ]
  },
  {
   "cell_type": "code",
   "execution_count": 2,
   "id": "88f98f3c",
   "metadata": {},
   "outputs": [],
   "source": [
    "# definition for getting data from csv file \n",
    "def get_cardio_data():\n",
    "    '''\n",
    "    get_cardio_data reads cardio_train.csv and seperates by semicolon ;\n",
    "    returns df\n",
    "    '''\n",
    "    # read csv\n",
    "    df = pd.read_csv('cardio_train.csv', sep=';')\n",
    "    return df"
   ]
  },
  {
   "cell_type": "code",
   "execution_count": 3,
   "id": "9d8f6dd3",
   "metadata": {
    "scrolled": true
   },
   "outputs": [],
   "source": [
    "df = get_cardio_data()"
   ]
  },
  {
   "cell_type": "code",
   "execution_count": 4,
   "id": "f76f2cf3",
   "metadata": {
    "scrolled": true
   },
   "outputs": [
    {
     "data": {
      "text/html": [
       "<div>\n",
       "<style scoped>\n",
       "    .dataframe tbody tr th:only-of-type {\n",
       "        vertical-align: middle;\n",
       "    }\n",
       "\n",
       "    .dataframe tbody tr th {\n",
       "        vertical-align: top;\n",
       "    }\n",
       "\n",
       "    .dataframe thead th {\n",
       "        text-align: right;\n",
       "    }\n",
       "</style>\n",
       "<table border=\"1\" class=\"dataframe\">\n",
       "  <thead>\n",
       "    <tr style=\"text-align: right;\">\n",
       "      <th></th>\n",
       "      <th>id</th>\n",
       "      <th>age</th>\n",
       "      <th>gender</th>\n",
       "      <th>height</th>\n",
       "      <th>weight</th>\n",
       "      <th>ap_hi</th>\n",
       "      <th>ap_lo</th>\n",
       "      <th>cholesterol</th>\n",
       "      <th>gluc</th>\n",
       "      <th>smoke</th>\n",
       "      <th>alco</th>\n",
       "      <th>active</th>\n",
       "      <th>cardio</th>\n",
       "    </tr>\n",
       "  </thead>\n",
       "  <tbody>\n",
       "    <tr>\n",
       "      <th>0</th>\n",
       "      <td>0</td>\n",
       "      <td>18393</td>\n",
       "      <td>2</td>\n",
       "      <td>168</td>\n",
       "      <td>62.0</td>\n",
       "      <td>110</td>\n",
       "      <td>80</td>\n",
       "      <td>1</td>\n",
       "      <td>1</td>\n",
       "      <td>0</td>\n",
       "      <td>0</td>\n",
       "      <td>1</td>\n",
       "      <td>0</td>\n",
       "    </tr>\n",
       "    <tr>\n",
       "      <th>1</th>\n",
       "      <td>1</td>\n",
       "      <td>20228</td>\n",
       "      <td>1</td>\n",
       "      <td>156</td>\n",
       "      <td>85.0</td>\n",
       "      <td>140</td>\n",
       "      <td>90</td>\n",
       "      <td>3</td>\n",
       "      <td>1</td>\n",
       "      <td>0</td>\n",
       "      <td>0</td>\n",
       "      <td>1</td>\n",
       "      <td>1</td>\n",
       "    </tr>\n",
       "    <tr>\n",
       "      <th>2</th>\n",
       "      <td>2</td>\n",
       "      <td>18857</td>\n",
       "      <td>1</td>\n",
       "      <td>165</td>\n",
       "      <td>64.0</td>\n",
       "      <td>130</td>\n",
       "      <td>70</td>\n",
       "      <td>3</td>\n",
       "      <td>1</td>\n",
       "      <td>0</td>\n",
       "      <td>0</td>\n",
       "      <td>0</td>\n",
       "      <td>1</td>\n",
       "    </tr>\n",
       "    <tr>\n",
       "      <th>3</th>\n",
       "      <td>3</td>\n",
       "      <td>17623</td>\n",
       "      <td>2</td>\n",
       "      <td>169</td>\n",
       "      <td>82.0</td>\n",
       "      <td>150</td>\n",
       "      <td>100</td>\n",
       "      <td>1</td>\n",
       "      <td>1</td>\n",
       "      <td>0</td>\n",
       "      <td>0</td>\n",
       "      <td>1</td>\n",
       "      <td>1</td>\n",
       "    </tr>\n",
       "    <tr>\n",
       "      <th>4</th>\n",
       "      <td>4</td>\n",
       "      <td>17474</td>\n",
       "      <td>1</td>\n",
       "      <td>156</td>\n",
       "      <td>56.0</td>\n",
       "      <td>100</td>\n",
       "      <td>60</td>\n",
       "      <td>1</td>\n",
       "      <td>1</td>\n",
       "      <td>0</td>\n",
       "      <td>0</td>\n",
       "      <td>0</td>\n",
       "      <td>0</td>\n",
       "    </tr>\n",
       "  </tbody>\n",
       "</table>\n",
       "</div>"
      ],
      "text/plain": [
       "   id    age  gender  height  weight  ap_hi  ap_lo  cholesterol  gluc  smoke  \\\n",
       "0   0  18393       2     168    62.0    110     80            1     1      0   \n",
       "1   1  20228       1     156    85.0    140     90            3     1      0   \n",
       "2   2  18857       1     165    64.0    130     70            3     1      0   \n",
       "3   3  17623       2     169    82.0    150    100            1     1      0   \n",
       "4   4  17474       1     156    56.0    100     60            1     1      0   \n",
       "\n",
       "   alco  active  cardio  \n",
       "0     0       1       0  \n",
       "1     0       1       1  \n",
       "2     0       0       1  \n",
       "3     0       1       1  \n",
       "4     0       0       0  "
      ]
     },
     "execution_count": 4,
     "metadata": {},
     "output_type": "execute_result"
    }
   ],
   "source": [
    "df.head()"
   ]
  },
  {
   "cell_type": "markdown",
   "id": "b37c805d",
   "metadata": {},
   "source": [
    "###  Data description\n",
    "There are 3 types of input features:\n",
    "\n",
    "Objective: factual information;\n",
    "Examination: results of medical examination;\n",
    "Subjective: information given by the patient.\n",
    "Features:\n",
    "\n",
    "* Age | Objective Feature | age | int (days)\n",
    "* Height | Objective Feature | height | int (cm) |\n",
    "* Weight | Objective Feature | weight | float (kg) |\n",
    "* Gender | Objective Feature | gender | categorical code | 1 - women, 2 - men\n",
    "* Systolic blood pressure | Examination Feature | ap_hi | int |\n",
    "* Diastolic blood pressure | Examination Feature | ap_lo | int |\n",
    "* Cholesterol | Examination Feature | cholesterol | 1: normal, 2: above normal, 3: well above normal |\n",
    "* Glucose | Examination Feature | gluc | 1: normal, 2: above normal, 3: well above normal |\n",
    "* Smoking | Subjective Feature | smoke | binary |\n",
    "* Alcohol intake | Subjective Feature | alco | binary |\n",
    "* Physical activity | Subjective Feature | active | binary |\n",
    "* Presence or absence of cardiovascular disease | Target Variable | cardio | binary |\n",
    "All of the dataset values were collected at the moment of medical examination."
   ]
  },
  {
   "cell_type": "code",
   "execution_count": 5,
   "id": "ca915e7c",
   "metadata": {
    "scrolled": true
   },
   "outputs": [
    {
     "data": {
      "text/plain": [
       "id             0\n",
       "age            0\n",
       "gender         0\n",
       "height         0\n",
       "weight         0\n",
       "ap_hi          0\n",
       "ap_lo          0\n",
       "cholesterol    0\n",
       "gluc           0\n",
       "smoke          0\n",
       "alco           0\n",
       "active         0\n",
       "cardio         0\n",
       "dtype: int64"
      ]
     },
     "execution_count": 5,
     "metadata": {},
     "output_type": "execute_result"
    }
   ],
   "source": [
    "df.isnull().sum()"
   ]
  },
  {
   "cell_type": "markdown",
   "id": "d12ba6ab",
   "metadata": {},
   "source": [
    "### No Null values observed"
   ]
  },
  {
   "cell_type": "code",
   "execution_count": 6,
   "id": "7d40732f",
   "metadata": {},
   "outputs": [],
   "source": [
    "def create_age_in_years(df):\n",
    "    '''\n",
    "    create_age_in_years  takes in cardio data frame \n",
    "    and feature engineers age_in_years from age_in_days column\n",
    "    \n",
    "    returns df\n",
    "    '''\n",
    "    # create new column from age_in_days column\n",
    "    df['age_in_years']= df.age_in_days//365\n",
    "    return df"
   ]
  },
  {
   "cell_type": "code",
   "execution_count": 7,
   "id": "6087d771",
   "metadata": {},
   "outputs": [],
   "source": [
    "def create_bmi(df):\n",
    "    '''\n",
    "    create_bmi takes in cardio data frame \n",
    "    and feature engineers bmi calculation for bmi using weight_kg/height_cm\n",
    "    \n",
    "    returns df'''\n",
    "    # create new colum from weight and height\n",
    "    df['calculate_bmi']=df.weight_kg/df.height_cm\n",
    "    return df"
   ]
  },
  {
   "cell_type": "code",
   "execution_count": 8,
   "id": "57f5a42b",
   "metadata": {},
   "outputs": [],
   "source": [
    "def label_values(df):\n",
    "    '''\n",
    "    label_columns takes in cardio df and relabels/replaces numeric values in gender, cholesterol, glucose\n",
    "    columns for human readability\n",
    "    return df'''\n",
    "    \n",
    "    # relabel female and male\n",
    "    df['gender'] = df.gender.replace({1:'f',2:'m'})\n",
    "    df['cholesterol'] = df.cholesterol.replace ({1: 'normal', 2: 'above_normal', 3: 'well_above_normal' })\n",
    "    df['glucose'] = df.glucose.replace({ 1: 'normal', 2: 'above_normal', 3: 'well_above_normal' })\n",
    "    return df\n",
    "    \n"
   ]
  },
  {
   "cell_type": "code",
   "execution_count": 9,
   "id": "86e4ee57",
   "metadata": {},
   "outputs": [],
   "source": [
    "def dummy(df, columns):\n",
    "    '''\n",
    "    dummy_var takes in data frame and column list and creates dummy variables for columns\n",
    "    appends dummy to main data frame\n",
    "    \n",
    "    returns data frame\n",
    "    '''\n",
    "    # create dummies\n",
    "    dummy_df = pd.get_dummies(df[\n",
    "                                    columns], dummy_na=False)\n",
    "    \n",
    "    # Concatenate dummy_df to original data frame\n",
    "    df = pd.concat([df, dummy_df], axis=1)\n",
    "    \n",
    "    return df"
   ]
  },
  {
   "cell_type": "code",
   "execution_count": 10,
   "id": "bb398c21",
   "metadata": {},
   "outputs": [],
   "source": [
    "#dummy(df, ['gender','cholesterol','glucose'])"
   ]
  },
  {
   "cell_type": "code",
   "execution_count": 11,
   "id": "cb9b4e62",
   "metadata": {},
   "outputs": [
    {
     "data": {
      "text/plain": [
       "Index(['id', 'age', 'gender', 'height', 'weight', 'ap_hi', 'ap_lo',\n",
       "       'cholesterol', 'gluc', 'smoke', 'alco', 'active', 'cardio'],\n",
       "      dtype='object')"
      ]
     },
     "execution_count": 11,
     "metadata": {},
     "output_type": "execute_result"
    }
   ],
   "source": [
    "df.columns"
   ]
  },
  {
   "cell_type": "code",
   "execution_count": 12,
   "id": "09a604bb",
   "metadata": {},
   "outputs": [
    {
     "data": {
      "text/html": [
       "<div>\n",
       "<style scoped>\n",
       "    .dataframe tbody tr th:only-of-type {\n",
       "        vertical-align: middle;\n",
       "    }\n",
       "\n",
       "    .dataframe tbody tr th {\n",
       "        vertical-align: top;\n",
       "    }\n",
       "\n",
       "    .dataframe thead th {\n",
       "        text-align: right;\n",
       "    }\n",
       "</style>\n",
       "<table border=\"1\" class=\"dataframe\">\n",
       "  <thead>\n",
       "    <tr style=\"text-align: right;\">\n",
       "      <th></th>\n",
       "      <th>id</th>\n",
       "      <th>age</th>\n",
       "      <th>gender</th>\n",
       "      <th>height</th>\n",
       "      <th>weight</th>\n",
       "      <th>ap_hi</th>\n",
       "      <th>ap_lo</th>\n",
       "      <th>cholesterol</th>\n",
       "      <th>gluc</th>\n",
       "      <th>smoke</th>\n",
       "      <th>alco</th>\n",
       "      <th>active</th>\n",
       "      <th>cardio</th>\n",
       "    </tr>\n",
       "  </thead>\n",
       "  <tbody>\n",
       "    <tr>\n",
       "      <th>0</th>\n",
       "      <td>0</td>\n",
       "      <td>18393</td>\n",
       "      <td>2</td>\n",
       "      <td>168</td>\n",
       "      <td>62.0</td>\n",
       "      <td>110</td>\n",
       "      <td>80</td>\n",
       "      <td>1</td>\n",
       "      <td>1</td>\n",
       "      <td>0</td>\n",
       "      <td>0</td>\n",
       "      <td>1</td>\n",
       "      <td>0</td>\n",
       "    </tr>\n",
       "    <tr>\n",
       "      <th>1</th>\n",
       "      <td>1</td>\n",
       "      <td>20228</td>\n",
       "      <td>1</td>\n",
       "      <td>156</td>\n",
       "      <td>85.0</td>\n",
       "      <td>140</td>\n",
       "      <td>90</td>\n",
       "      <td>3</td>\n",
       "      <td>1</td>\n",
       "      <td>0</td>\n",
       "      <td>0</td>\n",
       "      <td>1</td>\n",
       "      <td>1</td>\n",
       "    </tr>\n",
       "    <tr>\n",
       "      <th>2</th>\n",
       "      <td>2</td>\n",
       "      <td>18857</td>\n",
       "      <td>1</td>\n",
       "      <td>165</td>\n",
       "      <td>64.0</td>\n",
       "      <td>130</td>\n",
       "      <td>70</td>\n",
       "      <td>3</td>\n",
       "      <td>1</td>\n",
       "      <td>0</td>\n",
       "      <td>0</td>\n",
       "      <td>0</td>\n",
       "      <td>1</td>\n",
       "    </tr>\n",
       "    <tr>\n",
       "      <th>3</th>\n",
       "      <td>3</td>\n",
       "      <td>17623</td>\n",
       "      <td>2</td>\n",
       "      <td>169</td>\n",
       "      <td>82.0</td>\n",
       "      <td>150</td>\n",
       "      <td>100</td>\n",
       "      <td>1</td>\n",
       "      <td>1</td>\n",
       "      <td>0</td>\n",
       "      <td>0</td>\n",
       "      <td>1</td>\n",
       "      <td>1</td>\n",
       "    </tr>\n",
       "    <tr>\n",
       "      <th>4</th>\n",
       "      <td>4</td>\n",
       "      <td>17474</td>\n",
       "      <td>1</td>\n",
       "      <td>156</td>\n",
       "      <td>56.0</td>\n",
       "      <td>100</td>\n",
       "      <td>60</td>\n",
       "      <td>1</td>\n",
       "      <td>1</td>\n",
       "      <td>0</td>\n",
       "      <td>0</td>\n",
       "      <td>0</td>\n",
       "      <td>0</td>\n",
       "    </tr>\n",
       "  </tbody>\n",
       "</table>\n",
       "</div>"
      ],
      "text/plain": [
       "   id    age  gender  height  weight  ap_hi  ap_lo  cholesterol  gluc  smoke  \\\n",
       "0   0  18393       2     168    62.0    110     80            1     1      0   \n",
       "1   1  20228       1     156    85.0    140     90            3     1      0   \n",
       "2   2  18857       1     165    64.0    130     70            3     1      0   \n",
       "3   3  17623       2     169    82.0    150    100            1     1      0   \n",
       "4   4  17474       1     156    56.0    100     60            1     1      0   \n",
       "\n",
       "   alco  active  cardio  \n",
       "0     0       1       0  \n",
       "1     0       1       1  \n",
       "2     0       0       1  \n",
       "3     0       1       1  \n",
       "4     0       0       0  "
      ]
     },
     "execution_count": 12,
     "metadata": {},
     "output_type": "execute_result"
    }
   ],
   "source": [
    "df.head()"
   ]
  },
  {
   "cell_type": "code",
   "execution_count": 13,
   "id": "510518ef",
   "metadata": {},
   "outputs": [],
   "source": [
    "def prep_cardio(df):\n",
    "    ''' \n",
    "    prep_cardio takes in cardio dataframe and preps data for splits,\n",
    "    renames columns with appropriate units\n",
    "    drops id columns\n",
    "    creates new column age in years\n",
    "    re-orders columns\n",
    "    \n",
    "    returns df\n",
    "    '''\n",
    "    # rename columns\n",
    "    df = df.rename(columns={'age': 'age_in_days','weight': 'weight_kg','height': 'height_cm',\n",
    "                           'gluc':'glucose'})\n",
    "    \n",
    "    # drop columns\n",
    "    df = df.drop(columns ={'id'})\n",
    "    \n",
    "    # create new column\n",
    "    df = create_age_in_years(df)\n",
    "    df = create_bmi(df)\n",
    "    \n",
    "    #rearrange columns\n",
    "    df = df.reindex(columns=['age_in_years','age_in_days', 'gender', 'height_cm', 'weight_kg', \n",
    "                    'ap_hi', 'ap_lo', 'cholesterol', 'glucose', 'smoke', 'alco', 'active', 'cardio'])\n",
    "    # relabel numberic values\n",
    "    df = label_values(df)\n",
    "    \n",
    "    df = dummy(df, ['gender','cholesterol','glucose'])\n",
    "\n",
    "    \n",
    "    return df"
   ]
  },
  {
   "cell_type": "code",
   "execution_count": 14,
   "id": "2f4f927a",
   "metadata": {},
   "outputs": [],
   "source": [
    "#df = df.rename(columns={'age': 'age_in_days'})"
   ]
  },
  {
   "cell_type": "code",
   "execution_count": 15,
   "id": "1406e043",
   "metadata": {},
   "outputs": [],
   "source": [
    "#df = df.rename(columns={'weight': 'weight(kg)'})"
   ]
  },
  {
   "cell_type": "code",
   "execution_count": 16,
   "id": "810b3317",
   "metadata": {},
   "outputs": [],
   "source": [
    "#df = df.rename(columns={'height': 'height(cm)'})"
   ]
  },
  {
   "cell_type": "code",
   "execution_count": 17,
   "id": "963f9a23",
   "metadata": {},
   "outputs": [],
   "source": [
    "#df = df.drop(columns ={'id'})"
   ]
  },
  {
   "cell_type": "code",
   "execution_count": 18,
   "id": "377e4e99",
   "metadata": {},
   "outputs": [
    {
     "data": {
      "text/plain": [
       "41"
      ]
     },
     "execution_count": 18,
     "metadata": {},
     "output_type": "execute_result"
    }
   ],
   "source": [
    "15263//365"
   ]
  },
  {
   "cell_type": "markdown",
   "id": "c1696461",
   "metadata": {},
   "source": [
    "### * age is in days will be feature engineered into  create years columns"
   ]
  },
  {
   "cell_type": "code",
   "execution_count": 19,
   "id": "690625ed",
   "metadata": {},
   "outputs": [],
   "source": [
    "#df['age_in_years']= df.age_in_days//365"
   ]
  },
  {
   "cell_type": "code",
   "execution_count": 20,
   "id": "9fdfd82c",
   "metadata": {},
   "outputs": [],
   "source": [
    "#df = df.reindex(columns=['age_in_years','age_in_days', 'gender', 'height(cm)', 'weight(kg)', 'ap_hi', 'ap_lo',\n",
    " #      'cholesterol', 'gluc', 'smoke', 'alco', 'active', 'cardio'])"
   ]
  },
  {
   "cell_type": "code",
   "execution_count": 21,
   "id": "03e058ec",
   "metadata": {
    "scrolled": true
   },
   "outputs": [],
   "source": [
    "df = prep_cardio(df)"
   ]
  },
  {
   "cell_type": "code",
   "execution_count": 22,
   "id": "beecdb89",
   "metadata": {
    "scrolled": true
   },
   "outputs": [
    {
     "data": {
      "text/html": [
       "<div>\n",
       "<style scoped>\n",
       "    .dataframe tbody tr th:only-of-type {\n",
       "        vertical-align: middle;\n",
       "    }\n",
       "\n",
       "    .dataframe tbody tr th {\n",
       "        vertical-align: top;\n",
       "    }\n",
       "\n",
       "    .dataframe thead th {\n",
       "        text-align: right;\n",
       "    }\n",
       "</style>\n",
       "<table border=\"1\" class=\"dataframe\">\n",
       "  <thead>\n",
       "    <tr style=\"text-align: right;\">\n",
       "      <th></th>\n",
       "      <th>age_in_years</th>\n",
       "      <th>age_in_days</th>\n",
       "      <th>gender</th>\n",
       "      <th>height_cm</th>\n",
       "      <th>weight_kg</th>\n",
       "      <th>ap_hi</th>\n",
       "      <th>ap_lo</th>\n",
       "      <th>cholesterol</th>\n",
       "      <th>glucose</th>\n",
       "      <th>smoke</th>\n",
       "      <th>...</th>\n",
       "      <th>active</th>\n",
       "      <th>cardio</th>\n",
       "      <th>gender_f</th>\n",
       "      <th>gender_m</th>\n",
       "      <th>cholesterol_above_normal</th>\n",
       "      <th>cholesterol_normal</th>\n",
       "      <th>cholesterol_well_above_normal</th>\n",
       "      <th>glucose_above_normal</th>\n",
       "      <th>glucose_normal</th>\n",
       "      <th>glucose_well_above_normal</th>\n",
       "    </tr>\n",
       "  </thead>\n",
       "  <tbody>\n",
       "    <tr>\n",
       "      <th>0</th>\n",
       "      <td>50</td>\n",
       "      <td>18393</td>\n",
       "      <td>m</td>\n",
       "      <td>168</td>\n",
       "      <td>62.0</td>\n",
       "      <td>110</td>\n",
       "      <td>80</td>\n",
       "      <td>normal</td>\n",
       "      <td>normal</td>\n",
       "      <td>0</td>\n",
       "      <td>...</td>\n",
       "      <td>1</td>\n",
       "      <td>0</td>\n",
       "      <td>0</td>\n",
       "      <td>1</td>\n",
       "      <td>0</td>\n",
       "      <td>1</td>\n",
       "      <td>0</td>\n",
       "      <td>0</td>\n",
       "      <td>1</td>\n",
       "      <td>0</td>\n",
       "    </tr>\n",
       "    <tr>\n",
       "      <th>1</th>\n",
       "      <td>55</td>\n",
       "      <td>20228</td>\n",
       "      <td>f</td>\n",
       "      <td>156</td>\n",
       "      <td>85.0</td>\n",
       "      <td>140</td>\n",
       "      <td>90</td>\n",
       "      <td>well_above_normal</td>\n",
       "      <td>normal</td>\n",
       "      <td>0</td>\n",
       "      <td>...</td>\n",
       "      <td>1</td>\n",
       "      <td>1</td>\n",
       "      <td>1</td>\n",
       "      <td>0</td>\n",
       "      <td>0</td>\n",
       "      <td>0</td>\n",
       "      <td>1</td>\n",
       "      <td>0</td>\n",
       "      <td>1</td>\n",
       "      <td>0</td>\n",
       "    </tr>\n",
       "    <tr>\n",
       "      <th>2</th>\n",
       "      <td>51</td>\n",
       "      <td>18857</td>\n",
       "      <td>f</td>\n",
       "      <td>165</td>\n",
       "      <td>64.0</td>\n",
       "      <td>130</td>\n",
       "      <td>70</td>\n",
       "      <td>well_above_normal</td>\n",
       "      <td>normal</td>\n",
       "      <td>0</td>\n",
       "      <td>...</td>\n",
       "      <td>0</td>\n",
       "      <td>1</td>\n",
       "      <td>1</td>\n",
       "      <td>0</td>\n",
       "      <td>0</td>\n",
       "      <td>0</td>\n",
       "      <td>1</td>\n",
       "      <td>0</td>\n",
       "      <td>1</td>\n",
       "      <td>0</td>\n",
       "    </tr>\n",
       "    <tr>\n",
       "      <th>3</th>\n",
       "      <td>48</td>\n",
       "      <td>17623</td>\n",
       "      <td>m</td>\n",
       "      <td>169</td>\n",
       "      <td>82.0</td>\n",
       "      <td>150</td>\n",
       "      <td>100</td>\n",
       "      <td>normal</td>\n",
       "      <td>normal</td>\n",
       "      <td>0</td>\n",
       "      <td>...</td>\n",
       "      <td>1</td>\n",
       "      <td>1</td>\n",
       "      <td>0</td>\n",
       "      <td>1</td>\n",
       "      <td>0</td>\n",
       "      <td>1</td>\n",
       "      <td>0</td>\n",
       "      <td>0</td>\n",
       "      <td>1</td>\n",
       "      <td>0</td>\n",
       "    </tr>\n",
       "    <tr>\n",
       "      <th>4</th>\n",
       "      <td>47</td>\n",
       "      <td>17474</td>\n",
       "      <td>f</td>\n",
       "      <td>156</td>\n",
       "      <td>56.0</td>\n",
       "      <td>100</td>\n",
       "      <td>60</td>\n",
       "      <td>normal</td>\n",
       "      <td>normal</td>\n",
       "      <td>0</td>\n",
       "      <td>...</td>\n",
       "      <td>0</td>\n",
       "      <td>0</td>\n",
       "      <td>1</td>\n",
       "      <td>0</td>\n",
       "      <td>0</td>\n",
       "      <td>1</td>\n",
       "      <td>0</td>\n",
       "      <td>0</td>\n",
       "      <td>1</td>\n",
       "      <td>0</td>\n",
       "    </tr>\n",
       "    <tr>\n",
       "      <th>...</th>\n",
       "      <td>...</td>\n",
       "      <td>...</td>\n",
       "      <td>...</td>\n",
       "      <td>...</td>\n",
       "      <td>...</td>\n",
       "      <td>...</td>\n",
       "      <td>...</td>\n",
       "      <td>...</td>\n",
       "      <td>...</td>\n",
       "      <td>...</td>\n",
       "      <td>...</td>\n",
       "      <td>...</td>\n",
       "      <td>...</td>\n",
       "      <td>...</td>\n",
       "      <td>...</td>\n",
       "      <td>...</td>\n",
       "      <td>...</td>\n",
       "      <td>...</td>\n",
       "      <td>...</td>\n",
       "      <td>...</td>\n",
       "      <td>...</td>\n",
       "    </tr>\n",
       "    <tr>\n",
       "      <th>69995</th>\n",
       "      <td>52</td>\n",
       "      <td>19240</td>\n",
       "      <td>m</td>\n",
       "      <td>168</td>\n",
       "      <td>76.0</td>\n",
       "      <td>120</td>\n",
       "      <td>80</td>\n",
       "      <td>normal</td>\n",
       "      <td>normal</td>\n",
       "      <td>1</td>\n",
       "      <td>...</td>\n",
       "      <td>1</td>\n",
       "      <td>0</td>\n",
       "      <td>0</td>\n",
       "      <td>1</td>\n",
       "      <td>0</td>\n",
       "      <td>1</td>\n",
       "      <td>0</td>\n",
       "      <td>0</td>\n",
       "      <td>1</td>\n",
       "      <td>0</td>\n",
       "    </tr>\n",
       "    <tr>\n",
       "      <th>69996</th>\n",
       "      <td>61</td>\n",
       "      <td>22601</td>\n",
       "      <td>f</td>\n",
       "      <td>158</td>\n",
       "      <td>126.0</td>\n",
       "      <td>140</td>\n",
       "      <td>90</td>\n",
       "      <td>above_normal</td>\n",
       "      <td>above_normal</td>\n",
       "      <td>0</td>\n",
       "      <td>...</td>\n",
       "      <td>1</td>\n",
       "      <td>1</td>\n",
       "      <td>1</td>\n",
       "      <td>0</td>\n",
       "      <td>1</td>\n",
       "      <td>0</td>\n",
       "      <td>0</td>\n",
       "      <td>1</td>\n",
       "      <td>0</td>\n",
       "      <td>0</td>\n",
       "    </tr>\n",
       "    <tr>\n",
       "      <th>69997</th>\n",
       "      <td>52</td>\n",
       "      <td>19066</td>\n",
       "      <td>m</td>\n",
       "      <td>183</td>\n",
       "      <td>105.0</td>\n",
       "      <td>180</td>\n",
       "      <td>90</td>\n",
       "      <td>well_above_normal</td>\n",
       "      <td>normal</td>\n",
       "      <td>0</td>\n",
       "      <td>...</td>\n",
       "      <td>0</td>\n",
       "      <td>1</td>\n",
       "      <td>0</td>\n",
       "      <td>1</td>\n",
       "      <td>0</td>\n",
       "      <td>0</td>\n",
       "      <td>1</td>\n",
       "      <td>0</td>\n",
       "      <td>1</td>\n",
       "      <td>0</td>\n",
       "    </tr>\n",
       "    <tr>\n",
       "      <th>69998</th>\n",
       "      <td>61</td>\n",
       "      <td>22431</td>\n",
       "      <td>f</td>\n",
       "      <td>163</td>\n",
       "      <td>72.0</td>\n",
       "      <td>135</td>\n",
       "      <td>80</td>\n",
       "      <td>normal</td>\n",
       "      <td>above_normal</td>\n",
       "      <td>0</td>\n",
       "      <td>...</td>\n",
       "      <td>0</td>\n",
       "      <td>1</td>\n",
       "      <td>1</td>\n",
       "      <td>0</td>\n",
       "      <td>0</td>\n",
       "      <td>1</td>\n",
       "      <td>0</td>\n",
       "      <td>1</td>\n",
       "      <td>0</td>\n",
       "      <td>0</td>\n",
       "    </tr>\n",
       "    <tr>\n",
       "      <th>69999</th>\n",
       "      <td>56</td>\n",
       "      <td>20540</td>\n",
       "      <td>f</td>\n",
       "      <td>170</td>\n",
       "      <td>72.0</td>\n",
       "      <td>120</td>\n",
       "      <td>80</td>\n",
       "      <td>above_normal</td>\n",
       "      <td>normal</td>\n",
       "      <td>0</td>\n",
       "      <td>...</td>\n",
       "      <td>1</td>\n",
       "      <td>0</td>\n",
       "      <td>1</td>\n",
       "      <td>0</td>\n",
       "      <td>1</td>\n",
       "      <td>0</td>\n",
       "      <td>0</td>\n",
       "      <td>0</td>\n",
       "      <td>1</td>\n",
       "      <td>0</td>\n",
       "    </tr>\n",
       "  </tbody>\n",
       "</table>\n",
       "<p>70000 rows × 21 columns</p>\n",
       "</div>"
      ],
      "text/plain": [
       "       age_in_years  age_in_days gender  height_cm  weight_kg  ap_hi  ap_lo  \\\n",
       "0                50        18393      m        168       62.0    110     80   \n",
       "1                55        20228      f        156       85.0    140     90   \n",
       "2                51        18857      f        165       64.0    130     70   \n",
       "3                48        17623      m        169       82.0    150    100   \n",
       "4                47        17474      f        156       56.0    100     60   \n",
       "...             ...          ...    ...        ...        ...    ...    ...   \n",
       "69995            52        19240      m        168       76.0    120     80   \n",
       "69996            61        22601      f        158      126.0    140     90   \n",
       "69997            52        19066      m        183      105.0    180     90   \n",
       "69998            61        22431      f        163       72.0    135     80   \n",
       "69999            56        20540      f        170       72.0    120     80   \n",
       "\n",
       "             cholesterol       glucose  smoke  ...  active  cardio  gender_f  \\\n",
       "0                 normal        normal      0  ...       1       0         0   \n",
       "1      well_above_normal        normal      0  ...       1       1         1   \n",
       "2      well_above_normal        normal      0  ...       0       1         1   \n",
       "3                 normal        normal      0  ...       1       1         0   \n",
       "4                 normal        normal      0  ...       0       0         1   \n",
       "...                  ...           ...    ...  ...     ...     ...       ...   \n",
       "69995             normal        normal      1  ...       1       0         0   \n",
       "69996       above_normal  above_normal      0  ...       1       1         1   \n",
       "69997  well_above_normal        normal      0  ...       0       1         0   \n",
       "69998             normal  above_normal      0  ...       0       1         1   \n",
       "69999       above_normal        normal      0  ...       1       0         1   \n",
       "\n",
       "       gender_m  cholesterol_above_normal  cholesterol_normal  \\\n",
       "0             1                         0                   1   \n",
       "1             0                         0                   0   \n",
       "2             0                         0                   0   \n",
       "3             1                         0                   1   \n",
       "4             0                         0                   1   \n",
       "...         ...                       ...                 ...   \n",
       "69995         1                         0                   1   \n",
       "69996         0                         1                   0   \n",
       "69997         1                         0                   0   \n",
       "69998         0                         0                   1   \n",
       "69999         0                         1                   0   \n",
       "\n",
       "       cholesterol_well_above_normal  glucose_above_normal  glucose_normal  \\\n",
       "0                                  0                     0               1   \n",
       "1                                  1                     0               1   \n",
       "2                                  1                     0               1   \n",
       "3                                  0                     0               1   \n",
       "4                                  0                     0               1   \n",
       "...                              ...                   ...             ...   \n",
       "69995                              0                     0               1   \n",
       "69996                              0                     1               0   \n",
       "69997                              1                     0               1   \n",
       "69998                              0                     1               0   \n",
       "69999                              0                     0               1   \n",
       "\n",
       "       glucose_well_above_normal  \n",
       "0                              0  \n",
       "1                              0  \n",
       "2                              0  \n",
       "3                              0  \n",
       "4                              0  \n",
       "...                          ...  \n",
       "69995                          0  \n",
       "69996                          0  \n",
       "69997                          0  \n",
       "69998                          0  \n",
       "69999                          0  \n",
       "\n",
       "[70000 rows x 21 columns]"
      ]
     },
     "execution_count": 22,
     "metadata": {},
     "output_type": "execute_result"
    }
   ],
   "source": [
    "df"
   ]
  },
  {
   "cell_type": "code",
   "execution_count": 23,
   "id": "4a5c0fec",
   "metadata": {},
   "outputs": [],
   "source": [
    "def split_data(df, target):\n",
    "    '''\n",
    "    split_date takes in a dataframe  and target variable and splits into train , validate, test \n",
    "    and stratifies on target variable\n",
    "    \n",
    "    The split is 20% test 80% train/validate. Then 30% of 80% validate and 70% of 80% train.\n",
    "    Aproximately (train 56%, validate 24%, test 20%)\n",
    "    \n",
    "    returns train, validate, and test \n",
    "    '''\n",
    "    # split test data from train/validate\n",
    "    train_validate, test = train_test_split(df, test_size=.2, \n",
    "                                        random_state=123, \n",
    "                                        stratify=df [target])\n",
    "\n",
    "    # split train from validate\n",
    "    train, validate = train_test_split(train_validate, test_size=.3, \n",
    "                                   random_state=123, \n",
    "                                   stratify=train_validate[target])\n",
    "                                   \n",
    "    return train, validate, test"
   ]
  },
  {
   "cell_type": "code",
   "execution_count": 24,
   "id": "c8b2ac26",
   "metadata": {
    "scrolled": true
   },
   "outputs": [],
   "source": [
    "#dummy(df,['gender','cholesterol','glucose'])"
   ]
  },
  {
   "cell_type": "code",
   "execution_count": null,
   "id": "258a3b6c",
   "metadata": {},
   "outputs": [],
   "source": []
  },
  {
   "cell_type": "code",
   "execution_count": 25,
   "id": "eb16de4b",
   "metadata": {},
   "outputs": [],
   "source": [
    "train, validate, test = split_data(df, 'cardio')"
   ]
  },
  {
   "cell_type": "code",
   "execution_count": 26,
   "id": "f8f445dd",
   "metadata": {},
   "outputs": [
    {
     "data": {
      "text/plain": [
       "age_in_years                       int64\n",
       "age_in_days                        int64\n",
       "gender                            object\n",
       "height_cm                          int64\n",
       "weight_kg                        float64\n",
       "ap_hi                              int64\n",
       "ap_lo                              int64\n",
       "cholesterol                       object\n",
       "glucose                           object\n",
       "smoke                              int64\n",
       "alco                               int64\n",
       "active                             int64\n",
       "cardio                             int64\n",
       "gender_f                           uint8\n",
       "gender_m                           uint8\n",
       "cholesterol_above_normal           uint8\n",
       "cholesterol_normal                 uint8\n",
       "cholesterol_well_above_normal      uint8\n",
       "glucose_above_normal               uint8\n",
       "glucose_normal                     uint8\n",
       "glucose_well_above_normal          uint8\n",
       "dtype: object"
      ]
     },
     "execution_count": 26,
     "metadata": {},
     "output_type": "execute_result"
    }
   ],
   "source": [
    "train.dtypes"
   ]
  },
  {
   "cell_type": "code",
   "execution_count": 27,
   "id": "aa337eb3",
   "metadata": {
    "scrolled": true
   },
   "outputs": [
    {
     "data": {
      "image/png": "[encoded data removed]",
      "text/plain": [
       "<Figure size 432x288 with 1 Axes>"
      ]
     },
     "metadata": {
      "needs_background": "light"
     },
     "output_type": "display_data"
    },
    {
     "data": {
      "image/png": "[encoded data removed]",
      "text/plain": [
       "<Figure size 432x288 with 1 Axes>"
      ]
     },
     "metadata": {
      "needs_background": "light"
     },
     "output_type": "display_data"
    },
    {
     "data": {
      "image/png": "[encoded data removed]",
      "text/plain": [
       "<Figure size 432x288 with 1 Axes>"
      ]
     },
     "metadata": {
      "needs_background": "light"
     },
     "output_type": "display_data"
    },
    {
     "data": {
      "image/png": "[encoded data removed]",
      "text/plain": [
       "<Figure size 432x288 with 1 Axes>"
      ]
     },
     "metadata": {
      "needs_background": "light"
     },
     "output_type": "display_data"
    },
    {
     "data": {
      "image/png": "[encoded data removed]",
      "text/plain": [
       "<Figure size 432x288 with 1 Axes>"
      ]
     },
     "metadata": {
      "needs_background": "light"
     },
     "output_type": "display_data"
    },
    {
     "data": {
      "image/png": "[encoded data removed]",
      "text/plain": [
       "<Figure size 432x288 with 1 Axes>"
      ]
     },
     "metadata": {
      "needs_background": "light"
     },
     "output_type": "display_data"
    },
    {
     "data": {
      "image/png": "[encoded data removed]",
      "text/plain": [
       "<Figure size 432x288 with 1 Axes>"
      ]
     },
     "metadata": {
      "needs_background": "light"
     },
     "output_type": "display_data"
    },
    {
     "data": {
      "image/png": "[encoded data removed]",
      "text/plain": [
       "<Figure size 432x288 with 1 Axes>"
      ]
     },
     "metadata": {
      "needs_background": "light"
     },
     "output_type": "display_data"
    },
    {
     "data": {
      "image/png": "[encoded data removed]",
      "text/plain": [
       "<Figure size 432x288 with 1 Axes>"
      ]
     },
     "metadata": {
      "needs_background": "light"
     },
     "output_type": "display_data"
    },
    {
     "data": {
      "image/png": "[encoded data removed]",
      "text/plain": [
       "<Figure size 432x288 with 1 Axes>"
      ]
     },
     "metadata": {
      "needs_background": "light"
     },
     "output_type": "display_data"
    },
    {
     "data": {
      "image/png": "[encoded data removed]",
      "text/plain": [
       "<Figure size 432x288 with 1 Axes>"
      ]
     },
     "metadata": {
      "needs_background": "light"
     },
     "output_type": "display_data"
    },
    {
     "data": {
      "image/png": "[encoded data removed]",
      "text/plain": [
       "<Figure size 432x288 with 1 Axes>"
      ]
     },
     "metadata": {
      "needs_background": "light"
     },
     "output_type": "display_data"
    },
    {
     "data": {
      "image/png": "[encoded data removed]",
      "text/plain": [
       "<Figure size 432x288 with 1 Axes>"
      ]
     },
     "metadata": {
      "needs_background": "light"
     },
     "output_type": "display_data"
    },
    {
     "data": {
      "image/png": "[encoded data removed]",
      "text/plain": [
       "<Figure size 432x288 with 1 Axes>"
      ]
     },
     "metadata": {
      "needs_background": "light"
     },
     "output_type": "display_data"
    },
    {
     "data": {
      "image/png": "[encoded data removed]",
      "text/plain": [
       "<Figure size 432x288 with 1 Axes>"
      ]
     },
     "metadata": {
      "needs_background": "light"
     },
     "output_type": "display_data"
    },
    {
     "data": {
      "image/png": "[encoded data removed]",
      "text/plain": [
       "<Figure size 432x288 with 1 Axes>"
      ]
     },
     "metadata": {
      "needs_background": "light"
     },
     "output_type": "display_data"
    },
    {
     "data": {
      "image/png": "[encoded data removed]",
      "text/plain": [
       "<Figure size 432x288 with 1 Axes>"
      ]
     },
     "metadata": {
      "needs_background": "light"
     },
     "output_type": "display_data"
    },
    {
     "data": {
      "image/png": "[encoded data removed]",
      "text/plain": [
       "<Figure size 432x288 with 1 Axes>"
      ]
     },
     "metadata": {
      "needs_background": "light"
     },
     "output_type": "display_data"
    },
    {
     "data": {
      "image/png": "[encoded data removed]",
      "text/plain": [
       "<Figure size 432x288 with 1 Axes>"
      ]
     },
     "metadata": {
      "needs_background": "light"
     },
     "output_type": "display_data"
    },
    {
     "data": {
      "image/png": "[encoded data removed]",
      "text/plain": [
       "<Figure size 432x288 with 1 Axes>"
      ]
     },
     "metadata": {
      "needs_background": "light"
     },
     "output_type": "display_data"
    },
    {
     "data": {
      "image/png": "[encoded data removed]",
      "text/plain": [
       "<Figure size 432x288 with 1 Axes>"
      ]
     },
     "metadata": {
      "needs_background": "light"
     },
     "output_type": "display_data"
    }
   ],
   "source": [
    "num_cols = train.columns\n",
    "for col in num_cols:\n",
    "    plt.hist(df[col])\n",
    "    plt.title(col)\n",
    "    plt.show()"
   ]
  },
  {
   "cell_type": "code",
   "execution_count": 28,
   "id": "756adb8e",
   "metadata": {},
   "outputs": [
    {
     "data": {
      "text/html": [
       "<div>\n",
       "<style scoped>\n",
       "    .dataframe tbody tr th:only-of-type {\n",
       "        vertical-align: middle;\n",
       "    }\n",
       "\n",
       "    .dataframe tbody tr th {\n",
       "        vertical-align: top;\n",
       "    }\n",
       "\n",
       "    .dataframe thead th {\n",
       "        text-align: right;\n",
       "    }\n",
       "</style>\n",
       "<table border=\"1\" class=\"dataframe\">\n",
       "  <thead>\n",
       "    <tr style=\"text-align: right;\">\n",
       "      <th></th>\n",
       "      <th>age_in_years</th>\n",
       "      <th>age_in_days</th>\n",
       "      <th>height_cm</th>\n",
       "      <th>weight_kg</th>\n",
       "      <th>ap_hi</th>\n",
       "      <th>ap_lo</th>\n",
       "      <th>smoke</th>\n",
       "      <th>alco</th>\n",
       "      <th>active</th>\n",
       "      <th>cardio</th>\n",
       "      <th>gender_f</th>\n",
       "      <th>gender_m</th>\n",
       "      <th>cholesterol_above_normal</th>\n",
       "      <th>cholesterol_normal</th>\n",
       "      <th>cholesterol_well_above_normal</th>\n",
       "      <th>glucose_above_normal</th>\n",
       "      <th>glucose_normal</th>\n",
       "      <th>glucose_well_above_normal</th>\n",
       "    </tr>\n",
       "  </thead>\n",
       "  <tbody>\n",
       "    <tr>\n",
       "      <th>count</th>\n",
       "      <td>39200.000000</td>\n",
       "      <td>39200.000000</td>\n",
       "      <td>39200.000000</td>\n",
       "      <td>39200.000000</td>\n",
       "      <td>39200.000000</td>\n",
       "      <td>39200.000000</td>\n",
       "      <td>39200.000000</td>\n",
       "      <td>39200.000000</td>\n",
       "      <td>39200.000000</td>\n",
       "      <td>39200.000000</td>\n",
       "      <td>39200.000000</td>\n",
       "      <td>39200.000000</td>\n",
       "      <td>39200.000000</td>\n",
       "      <td>39200.000000</td>\n",
       "      <td>39200.000000</td>\n",
       "      <td>39200.000000</td>\n",
       "      <td>39200.000000</td>\n",
       "      <td>39200.000000</td>\n",
       "    </tr>\n",
       "    <tr>\n",
       "      <th>mean</th>\n",
       "      <td>52.866684</td>\n",
       "      <td>19478.283087</td>\n",
       "      <td>164.319337</td>\n",
       "      <td>74.117426</td>\n",
       "      <td>129.106709</td>\n",
       "      <td>96.426684</td>\n",
       "      <td>0.088010</td>\n",
       "      <td>0.054974</td>\n",
       "      <td>0.804235</td>\n",
       "      <td>0.499694</td>\n",
       "      <td>0.651378</td>\n",
       "      <td>0.348622</td>\n",
       "      <td>0.136071</td>\n",
       "      <td>0.749337</td>\n",
       "      <td>0.114592</td>\n",
       "      <td>0.073929</td>\n",
       "      <td>0.850051</td>\n",
       "      <td>0.076020</td>\n",
       "    </tr>\n",
       "    <tr>\n",
       "      <th>std</th>\n",
       "      <td>6.754328</td>\n",
       "      <td>2462.497384</td>\n",
       "      <td>8.224770</td>\n",
       "      <td>14.303885</td>\n",
       "      <td>166.375967</td>\n",
       "      <td>192.033816</td>\n",
       "      <td>0.283313</td>\n",
       "      <td>0.227933</td>\n",
       "      <td>0.396794</td>\n",
       "      <td>0.500006</td>\n",
       "      <td>0.476540</td>\n",
       "      <td>0.476540</td>\n",
       "      <td>0.342869</td>\n",
       "      <td>0.433400</td>\n",
       "      <td>0.318533</td>\n",
       "      <td>0.261658</td>\n",
       "      <td>0.357026</td>\n",
       "      <td>0.265034</td>\n",
       "    </tr>\n",
       "    <tr>\n",
       "      <th>min</th>\n",
       "      <td>30.000000</td>\n",
       "      <td>10964.000000</td>\n",
       "      <td>55.000000</td>\n",
       "      <td>11.000000</td>\n",
       "      <td>-150.000000</td>\n",
       "      <td>-70.000000</td>\n",
       "      <td>0.000000</td>\n",
       "      <td>0.000000</td>\n",
       "      <td>0.000000</td>\n",
       "      <td>0.000000</td>\n",
       "      <td>0.000000</td>\n",
       "      <td>0.000000</td>\n",
       "      <td>0.000000</td>\n",
       "      <td>0.000000</td>\n",
       "      <td>0.000000</td>\n",
       "      <td>0.000000</td>\n",
       "      <td>0.000000</td>\n",
       "      <td>0.000000</td>\n",
       "    </tr>\n",
       "    <tr>\n",
       "      <th>25%</th>\n",
       "      <td>48.000000</td>\n",
       "      <td>17674.000000</td>\n",
       "      <td>159.000000</td>\n",
       "      <td>65.000000</td>\n",
       "      <td>120.000000</td>\n",
       "      <td>80.000000</td>\n",
       "      <td>0.000000</td>\n",
       "      <td>0.000000</td>\n",
       "      <td>1.000000</td>\n",
       "      <td>0.000000</td>\n",
       "      <td>0.000000</td>\n",
       "      <td>0.000000</td>\n",
       "      <td>0.000000</td>\n",
       "      <td>0.000000</td>\n",
       "      <td>0.000000</td>\n",
       "      <td>0.000000</td>\n",
       "      <td>1.000000</td>\n",
       "      <td>0.000000</td>\n",
       "    </tr>\n",
       "    <tr>\n",
       "      <th>50%</th>\n",
       "      <td>54.000000</td>\n",
       "      <td>19710.000000</td>\n",
       "      <td>165.000000</td>\n",
       "      <td>72.000000</td>\n",
       "      <td>120.000000</td>\n",
       "      <td>80.000000</td>\n",
       "      <td>0.000000</td>\n",
       "      <td>0.000000</td>\n",
       "      <td>1.000000</td>\n",
       "      <td>0.000000</td>\n",
       "      <td>1.000000</td>\n",
       "      <td>0.000000</td>\n",
       "      <td>0.000000</td>\n",
       "      <td>1.000000</td>\n",
       "      <td>0.000000</td>\n",
       "      <td>0.000000</td>\n",
       "      <td>1.000000</td>\n",
       "      <td>0.000000</td>\n",
       "    </tr>\n",
       "    <tr>\n",
       "      <th>75%</th>\n",
       "      <td>58.000000</td>\n",
       "      <td>21327.000000</td>\n",
       "      <td>170.000000</td>\n",
       "      <td>82.000000</td>\n",
       "      <td>140.000000</td>\n",
       "      <td>90.000000</td>\n",
       "      <td>0.000000</td>\n",
       "      <td>0.000000</td>\n",
       "      <td>1.000000</td>\n",
       "      <td>1.000000</td>\n",
       "      <td>1.000000</td>\n",
       "      <td>1.000000</td>\n",
       "      <td>0.000000</td>\n",
       "      <td>1.000000</td>\n",
       "      <td>0.000000</td>\n",
       "      <td>0.000000</td>\n",
       "      <td>1.000000</td>\n",
       "      <td>0.000000</td>\n",
       "    </tr>\n",
       "    <tr>\n",
       "      <th>max</th>\n",
       "      <td>64.000000</td>\n",
       "      <td>23713.000000</td>\n",
       "      <td>207.000000</td>\n",
       "      <td>200.000000</td>\n",
       "      <td>16020.000000</td>\n",
       "      <td>11000.000000</td>\n",
       "      <td>1.000000</td>\n",
       "      <td>1.000000</td>\n",
       "      <td>1.000000</td>\n",
       "      <td>1.000000</td>\n",
       "      <td>1.000000</td>\n",
       "      <td>1.000000</td>\n",
       "      <td>1.000000</td>\n",
       "      <td>1.000000</td>\n",
       "      <td>1.000000</td>\n",
       "      <td>1.000000</td>\n",
       "      <td>1.000000</td>\n",
       "      <td>1.000000</td>\n",
       "    </tr>\n",
       "  </tbody>\n",
       "</table>\n",
       "</div>"
      ],
      "text/plain": [
       "       age_in_years   age_in_days     height_cm     weight_kg         ap_hi  \\\n",
       "count  39200.000000  39200.000000  39200.000000  39200.000000  39200.000000   \n",
       "mean      52.866684  19478.283087    164.319337     74.117426    129.106709   \n",
       "std        6.754328   2462.497384      8.224770     14.303885    166.375967   \n",
       "min       30.000000  10964.000000     55.000000     11.000000   -150.000000   \n",
       "25%       48.000000  17674.000000    159.000000     65.000000    120.000000   \n",
       "50%       54.000000  19710.000000    165.000000     72.000000    120.000000   \n",
       "75%       58.000000  21327.000000    170.000000     82.000000    140.000000   \n",
       "max       64.000000  23713.000000    207.000000    200.000000  16020.000000   \n",
       "\n",
       "              ap_lo         smoke          alco        active        cardio  \\\n",
       "count  39200.000000  39200.000000  39200.000000  39200.000000  39200.000000   \n",
       "mean      96.426684      0.088010      0.054974      0.804235      0.499694   \n",
       "std      192.033816      0.283313      0.227933      0.396794      0.500006   \n",
       "min      -70.000000      0.000000      0.000000      0.000000      0.000000   \n",
       "25%       80.000000      0.000000      0.000000      1.000000      0.000000   \n",
       "50%       80.000000      0.000000      0.000000      1.000000      0.000000   \n",
       "75%       90.000000      0.000000      0.000000      1.000000      1.000000   \n",
       "max    11000.000000      1.000000      1.000000      1.000000      1.000000   \n",
       "\n",
       "           gender_f      gender_m  cholesterol_above_normal  \\\n",
       "count  39200.000000  39200.000000              39200.000000   \n",
       "mean       0.651378      0.348622                  0.136071   \n",
       "std        0.476540      0.476540                  0.342869   \n",
       "min        0.000000      0.000000                  0.000000   \n",
       "25%        0.000000      0.000000                  0.000000   \n",
       "50%        1.000000      0.000000                  0.000000   \n",
       "75%        1.000000      1.000000                  0.000000   \n",
       "max        1.000000      1.000000                  1.000000   \n",
       "\n",
       "       cholesterol_normal  cholesterol_well_above_normal  \\\n",
       "count        39200.000000                   39200.000000   \n",
       "mean             0.749337                       0.114592   \n",
       "std              0.433400                       0.318533   \n",
       "min              0.000000                       0.000000   \n",
       "25%              0.000000                       0.000000   \n",
       "50%              1.000000                       0.000000   \n",
       "75%              1.000000                       0.000000   \n",
       "max              1.000000                       1.000000   \n",
       "\n",
       "       glucose_above_normal  glucose_normal  glucose_well_above_normal  \n",
       "count          39200.000000    39200.000000               39200.000000  \n",
       "mean               0.073929        0.850051                   0.076020  \n",
       "std                0.261658        0.357026                   0.265034  \n",
       "min                0.000000        0.000000                   0.000000  \n",
       "25%                0.000000        1.000000                   0.000000  \n",
       "50%                0.000000        1.000000                   0.000000  \n",
       "75%                0.000000        1.000000                   0.000000  \n",
       "max                1.000000        1.000000                   1.000000  "
      ]
     },
     "execution_count": 28,
     "metadata": {},
     "output_type": "execute_result"
    }
   ],
   "source": [
    "train.describe()"
   ]
  },
  {
   "cell_type": "markdown",
   "id": "c283e7d3",
   "metadata": {},
   "source": [
    "# Explore"
   ]
  },
  {
   "cell_type": "markdown",
   "id": "74d7c2a1",
   "metadata": {},
   "source": [
    "### What percent of the population have had a cardio incident?\n"
   ]
  },
  {
   "cell_type": "code",
   "execution_count": null,
   "id": "216c15fd",
   "metadata": {},
   "outputs": [],
   "source": [
    "sns."
   ]
  },
  {
   "cell_type": "code",
   "execution_count": null,
   "id": "24379cff",
   "metadata": {},
   "outputs": [],
   "source": []
  }
 ],
 "metadata": {
  "kernelspec": {
   "display_name": "Python 3 (ipykernel)",
   "language": "python",
   "name": "python3"
  },
  "language_info": {
   "codemirror_mode": {
    "name": "ipython",
    "version": 3
   },
   "file_extension": ".py",
   "mimetype": "text/x-python",
   "name": "python",
   "nbconvert_exporter": "python",
   "pygments_lexer": "ipython3",
   "version": "3.9.12"
  }
 },
 "nbformat": 4,
 "nbformat_minor": 5
}
